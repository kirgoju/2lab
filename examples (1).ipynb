{
 "cells": [
  {
   "cell_type": "markdown",
   "id": "fe929429-5d85-4da2-ab08-340f23112a0c",
   "metadata": {},
   "source": [
    "**Векторизация и оптимизация кода**"
   ]
  },
  {
   "cell_type": "code",
   "execution_count": 5,
   "id": "bf1309d9-4d2f-4d26-ae8c-d98af1386654",
   "metadata": {},
   "outputs": [],
   "source": [
    "import numpy as np\n",
    "a = np.array([1, 2, 3])\n",
    "b = np.array([4, 5, 6])\n",
    "result = a + b # Быстрое сложение массивов"
   ]
  },
  {
   "cell_type": "markdown",
   "id": "c660b68d-c6c9-4812-b665-9a160b1a541b",
   "metadata": {},
   "source": [
    "**Создание массива и операции с массивами**"
   ]
  },
  {
   "cell_type": "code",
   "execution_count": null,
   "id": "439c8256-8718-442e-8258-61a8824ba6a5",
   "metadata": {},
   "outputs": [],
   "source": [
    "import numpy as np\n",
    "arr = np.array([1, 2, 3, 4])"
   ]
  },
  {
   "cell_type": "code",
   "execution_count": 7,
   "id": "5fdb9bba-a270-4617-8a8a-0631defc5837",
   "metadata": {},
   "outputs": [
    {
     "name": "stdout",
     "output_type": "stream",
     "text": [
      "[5 7 9]\n"
     ]
    }
   ],
   "source": [
    "arr1 = np.array([1, 2, 3])\n",
    "arr2 = np.array([4, 5, 6])\n",
    "result = arr1 + arr2 # [5, 7, 9]\n",
    "print(result)"
   ]
  },
  {
   "cell_type": "code",
   "execution_count": null,
   "id": "5a77d594-dea3-4eb6-9331-00358b591a29",
   "metadata": {},
   "outputs": [],
   "source": [
    "matrix1 = np.array([[1, 2], [3, 4]])\n",
    "matrix2 = np.array([[5, 6], [7, 8]])\n",
    "result = np.dot(matrix1, matrix2)\n",
    "print(result)"
   ]
  },
  {
   "cell_type": "code",
   "execution_count": 11,
   "id": "97cc4ebc-c1fc-472f-b408-d182e776c231",
   "metadata": {},
   "outputs": [
    {
     "name": "stdout",
     "output_type": "stream",
     "text": [
      "1.4142135623730951\n"
     ]
    }
   ],
   "source": [
    "data = np.array([1, 2, 3, 4, 5])\n",
    "mean = np.mean(data) # Среднее значение\n",
    "std_dev = np.std(data)\n",
    "print(std_dev)"
   ]
  },
  {
   "cell_type": "markdown",
   "id": "bf407067-b827-4e47-aa39-ff4d3cff8209",
   "metadata": {},
   "source": [
    "**Доступ к элементам массива**"
   ]
  },
  {
   "cell_type": "code",
   "execution_count": 26,
   "id": "521dd6b8-1ad8-49aa-bc74-44d87bbc749b",
   "metadata": {},
   "outputs": [
    {
     "name": "stdout",
     "output_type": "stream",
     "text": [
      "[[1 2 3 4]\n",
      " [5 6 7 8]\n",
      " [9 1 5 7]]\n"
     ]
    }
   ],
   "source": [
    "import numpy as np\n",
    "m = np.matrix('1 2 3 4; 5 6 7 8; 9 1 5 7')\n",
    "print(m)"
   ]
  },
  {
   "cell_type": "code",
   "execution_count": 20,
   "id": "5e3e7f1d-06fd-4cd1-aa7a-e9f4d017eb61",
   "metadata": {},
   "outputs": [
    {
     "name": "stdout",
     "output_type": "stream",
     "text": [
      "5\n"
     ]
    }
   ],
   "source": [
    "print(m[1, 0])"
   ]
  },
  {
   "cell_type": "code",
   "execution_count": 24,
   "id": "7db8ec30-19d3-45f1-8051-2bd914d766fb",
   "metadata": {},
   "outputs": [
    {
     "name": "stdout",
     "output_type": "stream",
     "text": [
      "[[5 6 7 8]]\n"
     ]
    }
   ],
   "source": [
    "print(m[1, :])"
   ]
  },
  {
   "cell_type": "code",
   "execution_count": 22,
   "id": "904e1f5b-2278-4004-abae-9b3e69046068",
   "metadata": {},
   "outputs": [
    {
     "name": "stdout",
     "output_type": "stream",
     "text": [
      "[[3]\n",
      " [7]\n",
      " [5]]\n"
     ]
    }
   ],
   "source": [
    "print(m[:, 2])"
   ]
  },
  {
   "cell_type": "code",
   "execution_count": null,
   "id": "0722fc9a-7081-4c08-a538-58862f2bbbf3",
   "metadata": {},
   "outputs": [],
   "source": [
    "print(m[1, 2:])"
   ]
  },
  {
   "cell_type": "code",
   "execution_count": null,
   "id": "409e2e45-df64-41b3-bee7-361812184033",
   "metadata": {},
   "outputs": [],
   "source": [
    "print(m[0:2, 1])"
   ]
  },
  {
   "cell_type": "code",
   "execution_count": null,
   "id": "7a69d9b9-ae01-4e49-92c1-415b513ec180",
   "metadata": {},
   "outputs": [],
   "source": [
    "print(m[0:2, 1:3])"
   ]
  },
  {
   "cell_type": "code",
   "execution_count": null,
   "id": "26a7b654-b91d-4203-92a0-676cbf83963b",
   "metadata": {},
   "outputs": [],
   "source": [
    "print(cols = [0, 1, 3])"
   ]
  },
  {
   "cell_type": "markdown",
   "id": "a6779481-dbef-4af3-af08-6649fd94a434",
   "metadata": {},
   "source": [
    "**Расчет статистики по данным в массиве**"
   ]
  },
  {
   "cell_type": "code",
   "execution_count": 5,
   "id": "c0e2138b-6876-477a-a369-61bfa62059d9",
   "metadata": {},
   "outputs": [
    {
     "name": "stdout",
     "output_type": "stream",
     "text": [
      "[[1 2 3 4]\n",
      " [5 6 7 8]\n",
      " [9 1 5 7]]\n"
     ]
    }
   ],
   "source": [
    "import numpy as np\n",
    "m = np.matrix('1 2 3 4; 5 6 7 8; 9 1 5 7')\n",
    "print(m)"
   ]
  },
  {
   "cell_type": "code",
   "execution_count": 30,
   "id": "ff26aeb3-6f24-4f28-a666-cde9604afed9",
   "metadata": {},
   "outputs": [
    {
     "name": "stdout",
     "output_type": "stream",
     "text": [
      "<class 'numpy.matrix'>\n"
     ]
    }
   ],
   "source": [
    "print(type(m))"
   ]
  },
  {
   "cell_type": "code",
   "execution_count": 32,
   "id": "8e4a731f-594d-4893-a36a-13c9772d477b",
   "metadata": {},
   "outputs": [
    {
     "name": "stdout",
     "output_type": "stream",
     "text": [
      "(3, 4)\n"
     ]
    }
   ],
   "source": [
    "print(m.shape)"
   ]
  },
  {
   "cell_type": "code",
   "execution_count": 8,
   "id": "c68cbef8-f4fe-4909-8e34-550872c62851",
   "metadata": {},
   "outputs": [
    {
     "name": "stdout",
     "output_type": "stream",
     "text": [
      "9\n"
     ]
    }
   ],
   "source": [
    "print(m.max())"
   ]
  },
  {
   "cell_type": "code",
   "execution_count": 7,
   "id": "3026e7c5-8d8a-498d-bf82-9f7262d92917",
   "metadata": {},
   "outputs": [
    {
     "name": "stdout",
     "output_type": "stream",
     "text": [
      "[[4]\n",
      " [8]\n",
      " [9]]\n"
     ]
    }
   ],
   "source": [
    "print(m.max(axis=1))"
   ]
  },
  {
   "cell_type": "code",
   "execution_count": 6,
   "id": "5c58c4b6-63dd-4a20-90f6-c7bbd574fab3",
   "metadata": {},
   "outputs": [
    {
     "name": "stdout",
     "output_type": "stream",
     "text": [
      "[1.  1.5 2.  2.5 3.  3.5 4.  4.5]\n"
     ]
    }
   ],
   "source": [
    "print(np.arange(1, 5, 0.5))"
   ]
  },
  {
   "cell_type": "code",
   "execution_count": null,
   "id": "a72c3f0e-36de-49e5-b328-8cb20c0db3ab",
   "metadata": {},
   "outputs": [],
   "source": [
    "a = [[1, 2], [3, 4]]\n",
    "print(np.matrix(a))"
   ]
  },
  {
   "cell_type": "code",
   "execution_count": null,
   "id": "03cf4e4c-5b87-4a2c-8a62-07e5e02c284b",
   "metadata": {},
   "outputs": [],
   "source": [
    "print(np.zeros((3, 4)))"
   ]
  },
  {
   "cell_type": "code",
   "execution_count": null,
   "id": "c4514786-cfce-4610-a31c-c8cc254c9d4e",
   "metadata": {},
   "outputs": [],
   "source": [
    "print(np.eye(3))"
   ]
  },
  {
   "cell_type": "code",
   "execution_count": 10,
   "id": "5b85564d-10d2-4254-9ad2-b79667fdb834",
   "metadata": {},
   "outputs": [
    {
     "name": "stdout",
     "output_type": "stream",
     "text": [
      "[[1 2 3]\n",
      " [4 5 6]\n",
      " [7 8 9]]\n"
     ]
    }
   ],
   "source": [
    "A = np.array([[1, 2, 3], [4, 5, 6], [7, 8, 9]])\n",
    "print(A)"
   ]
  },
  {
   "cell_type": "code",
   "execution_count": 11,
   "id": "77d07615-dc31-480c-8f13-f4256a349186",
   "metadata": {},
   "outputs": [
    {
     "name": "stdout",
     "output_type": "stream",
     "text": [
      "[1 2 3 4 5 6 7 8 9]\n"
     ]
    }
   ],
   "source": [
    "print(np.ravel(A))"
   ]
  },
  {
   "cell_type": "code",
   "execution_count": null,
   "id": "c2b3dd0d-32a1-4bc3-b184-2a1bf4d1a3d9",
   "metadata": {},
   "outputs": [],
   "source": [
    "print(np.ravel(A, order='C'))"
   ]
  },
  {
   "cell_type": "code",
   "execution_count": null,
   "id": "1637fe43-9b97-4b1e-9fda-9b92a4582f1e",
   "metadata": {},
   "outputs": [],
   "source": [
    "print(np.ravel(A, order='F'))"
   ]
  },
  {
   "cell_type": "code",
   "execution_count": 19,
   "id": "8cb06086-9ef5-4be8-8c7b-d85b753d86ed",
   "metadata": {},
   "outputs": [
    {
     "name": "stdout",
     "output_type": "stream",
     "text": [
      "[ 0.   2.5  5.   7.5 10. ]\n"
     ]
    }
   ],
   "source": [
    "np.random.permutation(7)\n",
    "a = ['a', 'b', 'c', 'd', 'e']\n",
    "np.random.permutation(a)\n",
    "arr = np.linspace(0, 10, 5)\n",
    "print(arr)"
   ]
  },
  {
   "cell_type": "code",
   "execution_count": 20,
   "id": "a33e7ae0-4c35-4dc0-8ced-c2f6238cc21d",
   "metadata": {},
   "outputs": [
    {
     "name": "stdout",
     "output_type": "stream",
     "text": [
      "[10.   7.5  5.   2.5  0. ]\n"
     ]
    }
   ],
   "source": [
    "arr_mix = np.random.permutation(arr)\n",
    "print(arr_mix)"
   ]
  },
  {
   "cell_type": "code",
   "execution_count": 22,
   "id": "f9be0b94-7330-4c4b-a078-e65191256b6d",
   "metadata": {},
   "outputs": [
    {
     "name": "stdout",
     "output_type": "stream",
     "text": [
      "[3 0 1 4 2]\n"
     ]
    }
   ],
   "source": [
    "index_mix = np.random.permutation(len(arr_mix))\n",
    "print(index_mix)"
   ]
  },
  {
   "cell_type": "markdown",
   "id": "47c6be9f-4b23-469f-ad56-ecc4565b0b96",
   "metadata": {},
   "source": [
    "**Матрицы**"
   ]
  },
  {
   "cell_type": "code",
   "execution_count": 23,
   "id": "9d82009e-520e-4ee5-9490-dd2c44e735b1",
   "metadata": {},
   "outputs": [
    {
     "name": "stdout",
     "output_type": "stream",
     "text": [
      "[1 2]\n"
     ]
    }
   ],
   "source": [
    "v_hor_np = np.array([1, 2])\n",
    "print(v_hor_np )"
   ]
  },
  {
   "cell_type": "code",
   "execution_count": 24,
   "id": "60fb4dbb-e552-4615-880d-49dffa2487dc",
   "metadata": {},
   "outputs": [
    {
     "name": "stdout",
     "output_type": "stream",
     "text": [
      "[0. 0. 0. 0. 0.]\n"
     ]
    }
   ],
   "source": [
    "v_hor_zeros_v1 = np.zeros((5,))\n",
    "print(v_hor_zeros_v1 )"
   ]
  },
  {
   "cell_type": "code",
   "execution_count": 25,
   "id": "2f3d5e96-d753-4dc1-b723-6124aacc0670",
   "metadata": {},
   "outputs": [
    {
     "name": "stdout",
     "output_type": "stream",
     "text": [
      "[1. 1. 1. 1. 1.]\n"
     ]
    }
   ],
   "source": [
    "v_hor_one_v1 = np.ones((5,))\n",
    "print(v_hor_one_v1)"
   ]
  },
  {
   "cell_type": "code",
   "execution_count": 26,
   "id": "c1c49d44-3359-4e38-ab83-115dd9d7f2b3",
   "metadata": {},
   "outputs": [
    {
     "name": "stdout",
     "output_type": "stream",
     "text": [
      "[[1]\n",
      " [2]]\n"
     ]
    }
   ],
   "source": [
    "v_vert_np = np.array([[1], [2]])\n",
    "print(v_vert_np)"
   ]
  },
  {
   "cell_type": "code",
   "execution_count": 27,
   "id": "7d01c955-d5d7-4832-9818-9c266b07b7d0",
   "metadata": {},
   "outputs": [
    {
     "name": "stdout",
     "output_type": "stream",
     "text": [
      "[[0.]\n",
      " [0.]\n",
      " [0.]\n",
      " [0.]\n",
      " [0.]]\n"
     ]
    }
   ],
   "source": [
    "v_vert_zeros = np.zeros((5, 1))\n",
    "print(v_vert_zeros)"
   ]
  },
  {
   "cell_type": "code",
   "execution_count": 28,
   "id": "b34efe85-a3fa-40b5-b333-2039592e5523",
   "metadata": {},
   "outputs": [
    {
     "name": "stdout",
     "output_type": "stream",
     "text": [
      "[[1 2 3]\n",
      " [4 5 6]\n",
      " [7 8 9]]\n"
     ]
    }
   ],
   "source": [
    "m_sqr_arr = np.array([[1, 2, 3], [4, 5, 6], [7, 8, 9]])\n",
    "print(m_sqr_arr)"
   ]
  },
  {
   "cell_type": "code",
   "execution_count": 29,
   "id": "4f3e7652-79b7-44fc-8272-82ba54a22fc4",
   "metadata": {},
   "outputs": [
    {
     "name": "stdout",
     "output_type": "stream",
     "text": [
      "[[1 2 3]\n",
      " [4 5 6]\n",
      " [7 8 9]]\n"
     ]
    }
   ],
   "source": [
    "m_sqr = [[1, 2, 3], [4, 5, 6], [7, 8, 9]]\n",
    "m_sqr_arr = np.array(m_sqr)\n",
    "print(m_sqr_arr)"
   ]
  },
  {
   "cell_type": "code",
   "execution_count": 30,
   "id": "520ad216-0893-4069-82af-118eec4f9fb1",
   "metadata": {},
   "outputs": [
    {
     "name": "stdout",
     "output_type": "stream",
     "text": [
      "[[1 2 3]\n",
      " [4 5 6]\n",
      " [7 8 9]]\n"
     ]
    }
   ],
   "source": [
    "m_sqr_mx = np.matrix([[1, 2, 3], [4, 5, 6], [7, 8, 9]])\n",
    "print(m_sqr_mx)"
   ]
  },
  {
   "cell_type": "code",
   "execution_count": 31,
   "id": "7b886290-4745-4da9-86b9-e5442dc8ebf9",
   "metadata": {},
   "outputs": [
    {
     "name": "stdout",
     "output_type": "stream",
     "text": [
      "[[1 0 0]\n",
      " [0 5 0]\n",
      " [0 0 9]]\n"
     ]
    }
   ],
   "source": [
    "m_diag = [[1, 0, 0], [0, 5, 0], [0, 0, 9]]\n",
    "m_diag_np = np.matrix(m_diag)\n",
    "print(m_diag_np)"
   ]
  },
  {
   "cell_type": "code",
   "execution_count": 32,
   "id": "3a0845e5-8c29-46d6-ab6a-457e93400e1e",
   "metadata": {},
   "outputs": [
    {
     "name": "stdout",
     "output_type": "stream",
     "text": [
      "[[1 0 0]\n",
      " [0 1 0]\n",
      " [0 0 1]]\n"
     ]
    }
   ],
   "source": [
    "m_e = [[1, 0, 0], [0, 1, 0], [0, 0, 1]]\n",
    "m_e_np = np.matrix(m_e)\n",
    "print(m_e_np)"
   ]
  },
  {
   "cell_type": "code",
   "execution_count": 33,
   "id": "ba98f542-7f6c-412a-9801-087c319bd956",
   "metadata": {},
   "outputs": [
    {
     "name": "stdout",
     "output_type": "stream",
     "text": [
      "[[1. 0. 0.]\n",
      " [0. 1. 0.]\n",
      " [0. 0. 1.]]\n"
     ]
    }
   ],
   "source": [
    "m_eye = np.eye(3)\n",
    "print(m_eye)"
   ]
  },
  {
   "cell_type": "code",
   "execution_count": 35,
   "id": "81a5fc0e-8322-4b29-8a9a-6d43768d7686",
   "metadata": {},
   "outputs": [
    {
     "name": "stdout",
     "output_type": "stream",
     "text": [
      "[[1. 0. 0.]\n",
      " [0. 1. 0.]\n",
      " [0. 0. 1.]]\n"
     ]
    }
   ],
   "source": [
    "m_idnt = np.identity(3)\n",
    "print(m_idnt)"
   ]
  },
  {
   "cell_type": "markdown",
   "id": "dc70fbdd-f02d-4631-b148-58fe1055b868",
   "metadata": {},
   "source": [
    "**Трансонирование матрицы**"
   ]
  },
  {
   "cell_type": "code",
   "execution_count": 36,
   "id": "4dd09744-1054-4140-915f-9f31a9feae4b",
   "metadata": {},
   "outputs": [
    {
     "name": "stdout",
     "output_type": "stream",
     "text": [
      "[[1 4]\n",
      " [2 5]\n",
      " [3 6]]\n"
     ]
    }
   ],
   "source": [
    "A = np.matrix('1 2 3; 4 5 6')\n",
    "A_t = A.transpose()\n",
    "print(A_t)"
   ]
  },
  {
   "cell_type": "markdown",
   "id": "6f440f82-d436-45f9-bed9-38a0650c0297",
   "metadata": {},
   "source": [
    "*Свойство 1.* Дважды транспонированная матрица равна исходной матрице."
   ]
  },
  {
   "cell_type": "code",
   "execution_count": 37,
   "id": "71fbe371-2acd-4823-be13-3a29cbcebc19",
   "metadata": {},
   "outputs": [
    {
     "name": "stdout",
     "output_type": "stream",
     "text": [
      "[[1 2 3]\n",
      " [4 5 6]]\n",
      "[[1 2 3]\n",
      " [4 5 6]]\n"
     ]
    }
   ],
   "source": [
    "A = np.matrix('1 2 3; 4 5 6')\n",
    "print(A)\n",
    "R = (A.T).T\n",
    "print(R)"
   ]
  },
  {
   "cell_type": "markdown",
   "id": "57dd3469-a544-416a-a105-5e69c91e8683",
   "metadata": {},
   "source": [
    "*Свойство 2.* Транспонирование суммы матриц равно сумме транспонированных\n",
    "матриц:"
   ]
  },
  {
   "cell_type": "code",
   "execution_count": 38,
   "id": "581ff8a4-7153-410d-8910-497bbaff0c29",
   "metadata": {},
   "outputs": [
    {
     "name": "stdout",
     "output_type": "stream",
     "text": [
      "[[ 8  4]\n",
      " [10 12]\n",
      " [12 11]]\n",
      "[[ 8  4]\n",
      " [10 12]\n",
      " [12 11]]\n"
     ]
    }
   ],
   "source": [
    "A = np.matrix('1 2 3; 4 5 6')\n",
    "B = np.matrix('7 8 9; 0 7 5')\n",
    "L = (A + B).T\n",
    "R = A.T + B.T\n",
    "print(L)\n",
    "print(R)"
   ]
  },
  {
   "cell_type": "markdown",
   "id": "07d897b7-a828-4a5e-b89a-a3454c21273d",
   "metadata": {},
   "source": [
    "*Свойство 3.* Транспонирование произведения матриц равно произведению\n",
    "транспонированных матриц расставленных в обратном порядке:"
   ]
  },
  {
   "cell_type": "code",
   "execution_count": 39,
   "id": "dd05e217-b739-4fce-ba5e-551cf32a2306",
   "metadata": {},
   "outputs": [
    {
     "name": "stdout",
     "output_type": "stream",
     "text": [
      "[[19 43]\n",
      " [22 50]]\n",
      "[[19 43]\n",
      " [22 50]]\n"
     ]
    }
   ],
   "source": [
    "A = np.matrix('1 2; 3 4')\n",
    "B = np.matrix('5 6; 7 8')\n",
    "L = (A.dot(B)).T\n",
    "R = (B.T).dot(A.T)\n",
    "print(L) \n",
    "print(R)"
   ]
  },
  {
   "cell_type": "markdown",
   "id": "7319a268-5465-46aa-8e15-388cb83471a3",
   "metadata": {},
   "source": [
    "*Свойство 4.* Транспонирование произведения матрицы на число равно\n",
    "произведению этого числа на транспонированную матрицу:"
   ]
  },
  {
   "cell_type": "code",
   "execution_count": 40,
   "id": "d192addd-632e-467b-8dab-a1fa86414bb3",
   "metadata": {},
   "outputs": [
    {
     "name": "stdout",
     "output_type": "stream",
     "text": [
      "[[ 3 12]\n",
      " [ 6 15]\n",
      " [ 9 18]]\n",
      "[[ 3 12]\n",
      " [ 6 15]\n",
      " [ 9 18]]\n"
     ]
    }
   ],
   "source": [
    "A = np.matrix('1 2 3; 4 5 6')\n",
    "k = 3\n",
    "L = (k * A).T\n",
    "R = k * (A.T)\n",
    "print(L)\n",
    "print(R)"
   ]
  },
  {
   "cell_type": "markdown",
   "id": "7a1a3a62-0972-498e-91ee-55cc60a16eb5",
   "metadata": {},
   "source": [
    "*Свойство 5.* Определители исходной и транспонированной матрицы совпадают:"
   ]
  },
  {
   "cell_type": "code",
   "execution_count": 41,
   "id": "a8bcca75-23f6-4cf3-ac5b-9426f11c9f86",
   "metadata": {},
   "outputs": [
    {
     "name": "stdout",
     "output_type": "stream",
     "text": [
      "-2.000000000\n",
      "-2.000000000\n"
     ]
    }
   ],
   "source": [
    "A = np.matrix('1 2; 3 4')\n",
    "A_det = np.linalg.det(A)\n",
    "A_T_det = np.linalg.det(A.T)\n",
    "print(f\"{A_det:.9f}\")\n",
    "print(f\"{A_T_det:.9f}\")"
   ]
  },
  {
   "cell_type": "markdown",
   "id": "345cd88e-314c-437c-aa38-e006713075b8",
   "metadata": {},
   "source": [
    "**Действия над матрицами**"
   ]
  },
  {
   "cell_type": "code",
   "execution_count": 42,
   "id": "ce2b112e-ff72-4487-b32d-522e16a6ebb0",
   "metadata": {},
   "outputs": [
    {
     "name": "stdout",
     "output_type": "stream",
     "text": [
      "[[ 3  6  9]\n",
      " [12 15 18]]\n"
     ]
    }
   ],
   "source": [
    "A = np.matrix('1 2 3; 4 5 6')\n",
    "C = 3 * A\n",
    "print(C)"
   ]
  },
  {
   "cell_type": "code",
   "execution_count": 44,
   "id": "c798cdd9-cc9f-4bcf-a83b-7cdb2a2610cd",
   "metadata": {},
   "outputs": [
    {
     "name": "stdout",
     "output_type": "stream",
     "text": [
      "[[ 5 10]\n",
      " [15 20]]\n",
      "[[ 5 10]\n",
      " [15 20]]\n"
     ]
    }
   ],
   "source": [
    "A = np.matrix('1 2; 3 4')\n",
    "p = 2\n",
    "q = 3\n",
    "L = (p + q) * A\n",
    "R = p * A + q * A\n",
    "print(L)\n",
    "print(R)"
   ]
  },
  {
   "cell_type": "code",
   "execution_count": null,
   "id": "78a05588-b102-466a-a771-d0cd39705b3f",
   "metadata": {},
   "outputs": [],
   "source": [
    "A = np.matrix('1 2; 3 4')\n",
    "p = 2\n",
    "q = 3\n",
    "L = (p * q) * A\n",
    "R = p * (q * A)\n",
    "print(L)\n",
    "print(R)"
   ]
  },
  {
   "cell_type": "code",
   "execution_count": 45,
   "id": "f2e6bfad-1894-4088-8de7-e99f4b648412",
   "metadata": {},
   "outputs": [
    {
     "name": "stdout",
     "output_type": "stream",
     "text": [
      "[[18 24]\n",
      " [30 36]]\n",
      "[[18 24]\n",
      " [30 36]]\n"
     ]
    }
   ],
   "source": [
    "A = np.matrix('1 2; 3 4')\n",
    "B = np.matrix('5 6; 7 8')\n",
    "k = 3\n",
    "L = k * (A + B)\n",
    "R = k * A + k * B\n",
    "print(L)\n",
    "print(R)"
   ]
  },
  {
   "cell_type": "markdown",
   "id": "451b2542-3dba-4da7-9b67-e553e26e4aff",
   "metadata": {},
   "source": [
    "**Сложение матриц**"
   ]
  },
  {
   "cell_type": "code",
   "execution_count": 46,
   "id": "369fd3ea-fd9b-40f1-a585-b06993aad89b",
   "metadata": {},
   "outputs": [
    {
     "name": "stdout",
     "output_type": "stream",
     "text": [
      "[[ 9  7  8]\n",
      " [14 11 19]]\n"
     ]
    }
   ],
   "source": [
    "A = np.matrix('1 6 3; 8 2 7')\n",
    "B = np.matrix('8 1 5; 6 9 12')\n",
    "C = A + B\n",
    "print(C)"
   ]
  },
  {
   "cell_type": "code",
   "execution_count": 47,
   "id": "c14ad800-07ed-4017-a315-a0454c82b75b",
   "metadata": {},
   "outputs": [
    {
     "name": "stdout",
     "output_type": "stream",
     "text": [
      "[[ 6  8]\n",
      " [10 12]]\n",
      "[[ 6  8]\n",
      " [10 12]]\n"
     ]
    }
   ],
   "source": [
    "A = np.matrix('1 2; 3 4')\n",
    "B = np.matrix('5 6; 7 8')\n",
    "L = A + B\n",
    "R = B + A\n",
    "print(L)\n",
    "print(R)"
   ]
  },
  {
   "cell_type": "code",
   "execution_count": 48,
   "id": "ec592521-0f8b-4fb0-91b8-ad247a9de435",
   "metadata": {},
   "outputs": [
    {
     "name": "stdout",
     "output_type": "stream",
     "text": [
      "[[ 7 15]\n",
      " [19 15]]\n",
      "[[ 7 15]\n",
      " [19 15]]\n"
     ]
    }
   ],
   "source": [
    "A = np.matrix('1 2; 3 4')\n",
    "B = np.matrix('5 6; 7 8')\n",
    "C = np.matrix('1 7; 9 3')\n",
    "L = A + (B + C)\n",
    "R = (A + B) + C\n",
    "print(L)\n",
    "print(R)"
   ]
  },
  {
   "cell_type": "code",
   "execution_count": 49,
   "id": "cefd1c88-30a5-48cd-ad3b-b08f4644693d",
   "metadata": {},
   "outputs": [
    {
     "name": "stdout",
     "output_type": "stream",
     "text": [
      "[[0 0]\n",
      " [0 0]]\n",
      "[[0 0]\n",
      " [0 0]]\n"
     ]
    }
   ],
   "source": [
    "A = np.matrix('1 2; 3 4')\n",
    "Z = np.matrix('0 0; 0 0')\n",
    "L = A + (-1)*A\n",
    "print(L)\n",
    "print(Z)"
   ]
  },
  {
   "cell_type": "markdown",
   "id": "fd746cab-7a22-4015-a338-767f5b8607eb",
   "metadata": {},
   "source": [
    "**Умножение матриц**"
   ]
  },
  {
   "cell_type": "code",
   "execution_count": 50,
   "id": "a532b91e-e263-4140-9fef-6c484164e4dd",
   "metadata": {},
   "outputs": [
    {
     "name": "stdout",
     "output_type": "stream",
     "text": [
      "[[31 19]\n",
      " [85 55]]\n"
     ]
    }
   ],
   "source": [
    "A = np.matrix('1 2 3; 4 5 6')\n",
    "B = np.matrix('7 8; 9 1; 2 3')\n",
    "C = A.dot(B)\n",
    "print(C)"
   ]
  },
  {
   "cell_type": "code",
   "execution_count": 51,
   "id": "9dc01721-a678-4316-ab3b-5f4035256c2b",
   "metadata": {},
   "outputs": [
    {
     "name": "stdout",
     "output_type": "stream",
     "text": [
      "[[192 252]\n",
      " [436 572]]\n",
      "[[192 252]\n",
      " [436 572]]\n"
     ]
    }
   ],
   "source": [
    "A = np.matrix('1 2; 3 4')\n",
    "B = np.matrix('5 6; 7 8')\n",
    "C = np.matrix('2 4; 7 8')\n",
    "L = A.dot(B.dot(C))\n",
    "R = (A.dot(B)).dot(C)\n",
    "print(L)\n",
    "print(R)"
   ]
  },
  {
   "cell_type": "code",
   "execution_count": 52,
   "id": "e5862eb1-c8c4-439b-82d4-5460fe8ce0f7",
   "metadata": {},
   "outputs": [
    {
     "name": "stdout",
     "output_type": "stream",
     "text": [
      "[[35 42]\n",
      " [77 94]]\n",
      "[[35 42]\n",
      " [77 94]]\n"
     ]
    }
   ],
   "source": [
    "A = np.matrix('1 2; 3 4')\n",
    "B = np.matrix('5 6; 7 8')\n",
    "C = np.matrix('2 4; 7 8')\n",
    "L = A.dot(B + C)\n",
    "R = A.dot(B) + A.dot(C)\n",
    "print(L)\n",
    "print(R)"
   ]
  },
  {
   "cell_type": "code",
   "execution_count": 53,
   "id": "cbcd22d3-6512-433c-a8a7-0824904b3b85",
   "metadata": {},
   "outputs": [
    {
     "name": "stdout",
     "output_type": "stream",
     "text": [
      "[[19 22]\n",
      " [43 50]]\n",
      "[[23 34]\n",
      " [31 46]]\n"
     ]
    }
   ],
   "source": [
    "A = np.matrix('1 2; 3 4')\n",
    "B = np.matrix('5 6; 7 8')\n",
    "L = A.dot(B)\n",
    "R = B.dot(A)\n",
    "print(L)\n",
    "print(R)"
   ]
  },
  {
   "cell_type": "markdown",
   "id": "beb20b65-adc4-4e19-a4ad-d52a3c2905b2",
   "metadata": {},
   "source": [
    "**Определитель матрицы**"
   ]
  },
  {
   "cell_type": "code",
   "execution_count": 54,
   "id": "892c6715-64ec-4c04-a0f2-28ea43e86e94",
   "metadata": {},
   "outputs": [
    {
     "name": "stdout",
     "output_type": "stream",
     "text": [
      "[[-4 -1  2]\n",
      " [10  4 -1]\n",
      " [ 8  3  1]]\n"
     ]
    }
   ],
   "source": [
    "A = np.matrix('-4 -1 2; 10 4 -1; 8 3 1')\n",
    "print(A)"
   ]
  },
  {
   "cell_type": "code",
   "execution_count": 55,
   "id": "94df1cf9-3536-450e-9158-fbb9f1d5d832",
   "metadata": {},
   "outputs": [
    {
     "data": {
      "text/plain": [
       "-14.000000000000009"
      ]
     },
     "execution_count": 55,
     "metadata": {},
     "output_type": "execute_result"
    }
   ],
   "source": [
    "np.linalg.det(A)"
   ]
  },
  {
   "cell_type": "code",
   "execution_count": 56,
   "id": "8aff265d-4385-4014-a875-d8aac6ce5311",
   "metadata": {},
   "outputs": [
    {
     "name": "stdout",
     "output_type": "stream",
     "text": [
      "[[-4 -1  2]\n",
      " [10  4 -1]\n",
      " [ 8  3  1]]\n",
      "[[-4 10  8]\n",
      " [-1  4  3]\n",
      " [ 2 -1  1]]\n",
      "-14.0\n",
      "-14.0\n"
     ]
    }
   ],
   "source": [
    "A = np.matrix('-4 -1 2; 10 4 -1; 8 3 1')\n",
    "print(A)\n",
    "print(A.T)\n",
    "det_A = round(np.linalg.det(A), 3)\n",
    "det_A_t = round(np.linalg.det(A.T), 3)\n",
    "print(det_A)\n",
    "print(det_A_t)"
   ]
  },
  {
   "cell_type": "code",
   "execution_count": 57,
   "id": "85a7aa23-dbb5-4a84-9f82-0ca24e62c43d",
   "metadata": {},
   "outputs": [
    {
     "name": "stdout",
     "output_type": "stream",
     "text": [
      "[[-4 -1  2]\n",
      " [10  4 -1]\n",
      " [ 8  3  1]]\n",
      "[[10  4 -1]\n",
      " [-4 -1  2]\n",
      " [ 8  3  1]]\n"
     ]
    },
    {
     "data": {
      "text/plain": [
       "14.0"
      ]
     },
     "execution_count": 57,
     "metadata": {},
     "output_type": "execute_result"
    }
   ],
   "source": [
    "A = np.matrix('-4 -1 2; 10 4 -1; 8 3 1')\n",
    "print(A)\n",
    "B = np.matrix('10 4 -1; -4 -1 2; 8 3 1')\n",
    "print(B)\n",
    "round(np.linalg.det(A), 3)\n",
    "round(np.linalg.det(B), 3)"
   ]
  },
  {
   "cell_type": "markdown",
   "id": "2a35b77d-52ce-4bb8-93e9-1e6e1f442648",
   "metadata": {},
   "source": [
    "***Обратная матрица**"
   ]
  },
  {
   "cell_type": "code",
   "execution_count": 58,
   "id": "e552da53-7095-41d7-b0a2-ecacb28f3e96",
   "metadata": {},
   "outputs": [
    {
     "name": "stdout",
     "output_type": "stream",
     "text": [
      "[[ 0.45454545  0.27272727]\n",
      " [-0.18181818  0.09090909]]\n"
     ]
    }
   ],
   "source": [
    "A = np.matrix('1 -3; 2 5')\n",
    "A_inv = np.linalg.inv(A)\n",
    "print(A_inv)"
   ]
  },
  {
   "cell_type": "code",
   "execution_count": 59,
   "id": "191fd310-2d21-4e18-98ec-36749fb78ec3",
   "metadata": {},
   "outputs": [
    {
     "name": "stdout",
     "output_type": "stream",
     "text": [
      "[[ 1. -3.]\n",
      " [ 2.  5.]]\n",
      "[[ 1. -3.]\n",
      " [ 2.  5.]]\n"
     ]
    }
   ],
   "source": [
    "A = np.matrix('1. -3.; 2. 5.')\n",
    "A_inv = np.linalg.inv(A)\n",
    "A_inv_inv = np.linalg.inv(A_inv)\n",
    "print(A)\n",
    "print(A_inv_inv)"
   ]
  },
  {
   "cell_type": "code",
   "execution_count": 60,
   "id": "c0683fbd-f322-481b-99df-43c8deb394ad",
   "metadata": {},
   "outputs": [
    {
     "name": "stdout",
     "output_type": "stream",
     "text": [
      "[[ 0.45454545 -0.18181818]\n",
      " [ 0.27272727  0.09090909]]\n",
      "[[ 0.45454545 -0.18181818]\n",
      " [ 0.27272727  0.09090909]]\n"
     ]
    }
   ],
   "source": [
    "A = np.matrix('1. -3.; 2. 5.')\n",
    "L = np.linalg.inv(A.T)\n",
    "R = (np.linalg.inv(A)).T\n",
    "print(L)\n",
    "print(R)"
   ]
  },
  {
   "cell_type": "code",
   "execution_count": 61,
   "id": "df6fe2ed-b1fe-4f13-b9db-93e692a9c3dc",
   "metadata": {},
   "outputs": [
    {
     "name": "stdout",
     "output_type": "stream",
     "text": [
      "[[ 0.09454545  0.03272727]\n",
      " [-0.03454545  0.00727273]]\n",
      "[[ 0.09454545  0.03272727]\n",
      " [-0.03454545  0.00727273]]\n"
     ]
    }
   ],
   "source": [
    "A = np.matrix('1. -3.; 2. 5.')\n",
    "B = np.matrix('7. 6.; 1. 8.')\n",
    "L = np.linalg.inv(A.dot(B))\n",
    "R = np.linalg.inv(B).dot(np.linalg.inv(A))\n",
    "print(L)\n",
    "print(R)"
   ]
  },
  {
   "cell_type": "code",
   "execution_count": null,
   "id": "5911c963-c3dd-45ce-9153-03af5cb3512f",
   "metadata": {},
   "outputs": [],
   "source": []
  }
 ],
 "metadata": {
  "kernelspec": {
   "display_name": "Python 3 (ipykernel)",
   "language": "python",
   "name": "python3"
  },
  "language_info": {
   "codemirror_mode": {
    "name": "ipython",
    "version": 3
   },
   "file_extension": ".py",
   "mimetype": "text/x-python",
   "name": "python",
   "nbconvert_exporter": "python",
   "pygments_lexer": "ipython3",
   "version": "3.12.7"
  }
 },
 "nbformat": 4,
 "nbformat_minor": 5
}
