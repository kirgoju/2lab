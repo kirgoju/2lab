{
 "cells": [
  {
   "cell_type": "markdown",
   "id": "ebd285f3-3622-44de-b58b-9f7dc437409c",
   "metadata": {},
   "source": [
    "**Задание 1**\n",
    "\n",
    "Создайте массив NumPy размером 3×3, содержащий числа от 1 до 9. Умножьте все элементы массива на 2, а затем замените все элементы больше 10 на 0.Выведите итоговый массив"
   ]
  },
  {
   "cell_type": "code",
   "execution_count": null,
   "id": "5639479d-72f6-46e3-86ca-197b12d2cc17",
   "metadata": {},
   "outputs": [],
   "source": [
    "import numpy as np\n",
    "matr = np.array([[1, 2, 3],[4, 5, 6],[7, 8, 9]])\n",
    "print(\"начальная матрица:\\n\", matr)\n",
    "matr=matr*2\n",
    "for i in range(3):\n",
    "    for j in range(3):\n",
    "        if matr[i,j]>10:\n",
    "            matr[i,j]=0      \n",
    "print(\"Конечная матрица:\\n\", matr)"
   ]
  },
  {
   "cell_type": "markdown",
   "id": "9b9d9fd7-71b8-4ea1-b676-c5b30b506e2f",
   "metadata": {},
   "source": [
    "**Задание 2**\n",
    "\n",
    "Создайте массив NumPy из 20 случайных целых чисел от 1 до 100. Найдите и\n",
    "выведите все элементы, которые делятся на 5 без остатка. Затем замените их на\n",
    "-1 и выведите обновленный массив."
   ]
  },
  {
   "cell_type": "code",
   "execution_count": null,
   "id": "67534fd4-4379-485c-8255-0785231ec93d",
   "metadata": {},
   "outputs": [],
   "source": [
    "import numpy as np\n",
    "import random\n",
    "mas=np.arange(1,100)\n",
    "mas=np.random.permutation(mas)\n",
    "mas= mas[:20]\n",
    "for i in range(20):\n",
    "    if mas[i]%5==0:\n",
    "        print (mas[i])\n",
    "        mas[i]=-1\n",
    "print(mas)"
   ]
  },
  {
   "cell_type": "markdown",
   "id": "faeee9ba-af64-4e09-a75e-8beade48bf9d",
   "metadata": {},
   "source": [
    "**Задание 3**\n",
    "\n",
    "Создайте два массива NumPy размером 1×5, заполненные случайными числами\n",
    "от 0 до 50/].\n",
    "\n",
    "- Объедините эти массивы в один двумерный массив (по строкам)\n",
    "- Разделите полученный массив на два массива, каждый из которых содержит 5 элементов.\n",
    "\n",
    "Выведите все промежуточные и итоговые результаты"
   ]
  },
  {
   "cell_type": "code",
   "execution_count": 12,
   "id": "41540003-d7f1-4982-a683-27b4eff69b9f",
   "metadata": {},
   "outputs": [
    {
     "name": "stdout",
     "output_type": "stream",
     "text": [
      "[27 37  0  3 20] [31 44 18 21 36]\n",
      "объединенные:\n",
      " [[27 37  0  3 20]\n",
      " [31 44 18 21 36]]\n",
      "Разделенные:\n",
      " [array([[27, 37,  0,  3, 20]]), array([[31, 44, 18, 21, 36]])]\n"
     ]
    }
   ],
   "source": [
    "import numpy as np\n",
    "import random\n",
    "mas1=np.arange(0,50)\n",
    "mas1=np.random.permutation(mas1)\n",
    "mas1= mas1[:5]\n",
    "mas2=np.arange(0,50)\n",
    "mas2=np.random.permutation(mas2)\n",
    "mas2= mas2[:5]\n",
    "print(mas1, mas2)\n",
    "res=np.vstack((mas1, mas2))\n",
    "print(f\"объединенные:\\n {res}\")\n",
    "res=np.split(res,2)\n",
    "print(f\"Разделенные:\\n {res}\")"
   ]
  },
  {
   "cell_type": "markdown",
   "id": "b6331e7f-c199-4e32-9f88-d045c863c0dd",
   "metadata": {},
   "source": [
    "**Задание 4**\n",
    "\n",
    "Создайте массив из 50 чисел, равномерно распределенных от -10 до 10.\n",
    "Вычислите сумму всех элементов, сумму положительных элементов и сумму\n",
    "отрицательных элементов. Выведите результаты."
   ]
  },
  {
   "cell_type": "code",
   "execution_count": null,
   "id": "25ccc0e0-b2b1-4925-9222-480cd04b8fed",
   "metadata": {},
   "outputs": [],
   "source": [
    "import random\n",
    "mas=np.linspace(-10,10,num=49)\n",
    "sum=0\n",
    "sum1=0\n",
    "sum2=0\n",
    "for i in range(49):\n",
    "    sum+=mas[i]\n",
    "    if mas[i]>0:\n",
    "        sum1+=mas[i]\n",
    "    if mas[i]<0:\n",
    "        sum1+=mas[i]\n",
    "print(sum,sum1,sum2)"
   ]
  },
  {
   "cell_type": "markdown",
   "id": "04dc42a5-c6de-4bdc-a5ce-a77d6a298469",
   "metadata": {},
   "source": [
    "**Задание 5**\n",
    "\n",
    "Создайте:\n",
    "\n",
    "- Единичную матрицу размером 4×4\n",
    "- Диагональную матрицу размером 4×4 с диагональными элементами [5, 10, 15, 20] (не использовать циклы). \n",
    "\n",
    "Найдите сумму всех элементов каждой из этих матриц и сравните результаты."
   ]
  },
  {
   "cell_type": "code",
   "execution_count": null,
   "id": "a2c2b5c2-92c1-46fb-9b0c-ea98a8db1cf4",
   "metadata": {},
   "outputs": [],
   "source": [
    "import numpy as np\n",
    "mas=np.eye(4)\n",
    "mas2=np.diag([5, 10, 15, 20])\n",
    "print(mas)\n",
    "print(mas2)"
   ]
  },
  {
   "cell_type": "markdown",
   "id": "70eb092c-78ce-4492-9656-516de47f3800",
   "metadata": {},
   "source": [
    "**Задание 6**\n",
    "\n",
    "Создайте две квадратные матрицы NumPy размером 3×3, заполненные случайными целыми числами от 1 до 20. Вычислите и выведите:\n",
    "- Их сумму\n",
    "- Их разность\n",
    "- Их поэлементное произведение"
   ]
  },
  {
   "cell_type": "code",
   "execution_count": 15,
   "id": "c25a0fbf-6c44-4107-9298-740f6990be82",
   "metadata": {},
   "outputs": [
    {
     "name": "stdout",
     "output_type": "stream",
     "text": [
      "Первоначальные матрицы:\n",
      " [[ 6 17 20]\n",
      " [19 17  3]\n",
      " [ 8  5  6]],\n",
      "[[ 1 12  5]\n",
      " [ 3  7 15]\n",
      " [12 13  4]]\n",
      "Сумма:\n",
      "[[ 7 29 25]\n",
      " [22 24 18]\n",
      " [20 18 10]]\n",
      "Разность:\n",
      "[[  5   5  15]\n",
      " [ 16  10 -12]\n",
      " [ -4  -8   2]]\n",
      "Произведение:\n",
      "[[  6 204 100]\n",
      " [ 57 119  45]\n",
      " [ 96  65  24]]\n"
     ]
    }
   ],
   "source": [
    "import numpy as np\n",
    "matr1 = np.random.randint(1, 21, size = (3, 3))\n",
    "matr2 = np.random.randint(1, 21, size = (3, 3))\n",
    "sum = matr1 + matr2\n",
    "razn = matr1 - matr2\n",
    "proiz = matr1 * matr2\n",
    "print(f\"Первоначальные матрицы:\\n {matr1},\\n{matr2}\")\n",
    "print(f\"Сумма:\\n{sum}\")\n",
    "print(f\"Разность:\\n{razn}\")\n",
    "print(f\"Произведение:\\n{proiz}\")"
   ]
  },
  {
   "cell_type": "markdown",
   "id": "33d880f7-2243-4931-b99b-43ebf83f4204",
   "metadata": {},
   "source": [
    "**Задание 7**\n",
    "\n",
    "Создайте две матрицы NumPy:\n",
    "\n",
    "- Первую размером 2×3, заполненную случайными числами от 1 до 10.\n",
    "- Вторую размером 3×2, заполненную случайными числами от 1 до 10.\n",
    "\n",
    "Выполните матричное умножение ( @ или np.dot ) и выведите результат."
   ]
  },
  {
   "cell_type": "code",
   "execution_count": 1,
   "id": "35907cfe-8492-4dc6-9a6d-3b3872674ccb",
   "metadata": {},
   "outputs": [
    {
     "name": "stdout",
     "output_type": "stream",
     "text": [
      "Первая матрица:\n",
      " [[10 10  5]\n",
      " [ 3  5  7]]\n",
      "Вторая матрица:\n",
      " [[ 4 10]\n",
      " [ 7  1]\n",
      " [ 5  5]]\n",
      "Ответ: \n",
      " [[135 135]\n",
      " [ 82  70]]\n"
     ]
    }
   ],
   "source": [
    "import numpy as np\n",
    "matr1 = np.random.randint(1, 11, size = (2, 3))\n",
    "matr2 = np.random.randint(1, 11, size = (3, 2))\n",
    "print(f\"Первая матрица:\\n {matr1}\")\n",
    "print(f\"Вторая матрица:\\n {matr2}\")\n",
    "print(f\"Ответ: \\n\", np.dot(matr1, matr2) )"
   ]
  },
  {
   "cell_type": "markdown",
   "id": "1bc62740-f58e-4253-a97a-f25f069cb0ce",
   "metadata": {},
   "source": [
    "**Задание 8**\n",
    "\n",
    "Создайте случайную квадратную матрицу 3×3. Найдите и выведите:\n",
    "\n",
    "- Определитель этой матрицы\n",
    "- Обратную матрицу (если существует, иначе выведите сообщение, что матрица\n",
    "вырождена)\n",
    "\n",
    "Используйте функции np.linalg.det и np.linalg.inv .\n"
   ]
  },
  {
   "cell_type": "code",
   "execution_count": 15,
   "id": "f46ebc01-d314-4cb1-acba-0eb8c0d7b26d",
   "metadata": {},
   "outputs": [
    {
     "name": "stdout",
     "output_type": "stream",
     "text": [
      "Первая матрица:\n",
      " [[ 4  1  1]\n",
      " [ 6 10  3]\n",
      " [ 1  5  9]]\n",
      "определитель: 269.0000000000002\n",
      "Обратная матрица:\n",
      " [[ 0.27881041 -0.01486989 -0.0260223 ]\n",
      " [-0.18959108  0.13011152 -0.02230483]\n",
      " [ 0.07434944 -0.07063197  0.12639405]]\n"
     ]
    }
   ],
   "source": [
    "import numpy as np\n",
    "matr1 = np.random.randint(1, 11, size = (3, 3))\n",
    "print(f\"Исходная матрица:\\n {matr1}\")\n",
    "print(f\"определитель: {np.linalg.det(matr1)}\\nОбратная матрица:\\n {np.linalg.inv(matr1)}\")"
   ]
  },
  {
   "cell_type": "markdown",
   "id": "9721cc38-9d1f-4be5-9448-56bfe056233f",
   "metadata": {},
   "source": [
    "**Задание 9**\n",
    "\n",
    "Создайте матрицу NumPy размером 4×4, содержащую случайные целые числа от\n",
    "1 до 50. Выведите:\n",
    "\n",
    "- Исходную матрицу\n",
    "- Транспонированную матрицу\n",
    "- След матрицы (сумму элементов на главной диагонали)\n",
    "\n",
    "Используйте np.trace для нахождения следа."
   ]
  },
  {
   "cell_type": "code",
   "execution_count": 26,
   "id": "45b10fc3-64f1-45d9-93f9-988d3bde8f2d",
   "metadata": {},
   "outputs": [
    {
     "name": "stdout",
     "output_type": "stream",
     "text": [
      "Исходная матрица:\n",
      " [[ 9 36 42 20]\n",
      " [23 46 40 46]\n",
      " [13 42 12 14]\n",
      " [34 10 26 47]]\n",
      "Транспонированная матрица:\n",
      " [[ 9 23 13 34]\n",
      " [36 46 42 10]\n",
      " [42 40 12 26]\n",
      " [20 46 14 47]] \n",
      " след матрицы:\n",
      " 114\n"
     ]
    }
   ],
   "source": [
    "import numpy as np\n",
    "matr1 = np.random.randint(1, 51, size = (4, 4))\n",
    "print(f\"Исходная матрица:\\n {matr1}\")\n",
    "print(f\"Транспонированная матрица:\\n {np.transpose(matr1)} \\n след матрицы:\\n {np.trace(matr1)}\")"
   ]
  },
  {
   "cell_type": "markdown",
   "id": "08abf03d-71fe-4d9c-b483-3bf87165d633",
   "metadata": {},
   "source": [
    "**Задание 10**\n",
    "\n",
    "Решите систему линейных уравнений вида:\n",
    "\n",
    "⎧2x + 3y − z = 5\n",
    "⎨4x − y + 2z = 6\n",
    "⎩−3x + 5y + 4z = −2\n",
    "\n",
    "Используйте матричное представление Ax = B , где A – матрица коэффициентов,\n",
    "x – вектор неизвестных, B – вектор правой части. Решите систему с помощью\n",
    "np.linalg.solve и выведите результат."
   ]
  },
  {
   "cell_type": "code",
   "execution_count": 28,
   "id": "60f53602-4482-42b3-8b1c-73dde0a05c6b",
   "metadata": {},
   "outputs": [
    {
     "name": "stdout",
     "output_type": "stream",
     "text": [
      "Решение системы:\n",
      "x = 1.64\n",
      "y = 0.58\n",
      "z = 0.01\n"
     ]
    }
   ],
   "source": [
    "import numpy as np \n",
    "A = np.array([\n",
    "    [2, 3, -1],\n",
    "    [4, -1, 2],\n",
    "    [-3, 5, 4]])\n",
    "B = np.array([5, 6, -2])\n",
    "x = np.linalg.solve(A, B)\n",
    "print(f\"Решение системы:\")\n",
    "print(f\"x = {x[0]:.2f}\")\n",
    "print(f\"y = {x[1]:.2f}\")\n",
    "print(f\"z = {x[2]:.2f}\")"
   ]
  },
  {
   "cell_type": "markdown",
   "id": "f1c2f254-bbbd-4bce-8c4b-96cc7882ae9b",
   "metadata": {},
   "source": [
    "**Задание 11**\n",
    "\n",
    "Решите индивидуальное задание согласно варианта. Каждое задание\n",
    "предусматривает построение системы линейных уравнений. Решите полученную\n",
    "систему уравнений с использованием библиотеки NumPy. Для решения системы\n",
    "используйте метод Крамера и матричный метод. Сравните полученные\n",
    "результаты, с результатами, полученными с помощью np.linalg.solve .\n",
    "\n",
    "**Вариант 20**\n",
    "\n",
    "Для создания нового металлического сплава\n",
    "используются три вида металлов. В первом металле содержится 60% железа,\n",
    "во втором — 70%, в третьем — 80%. Нужно получить 100 кг сплава с 72%\n",
    "железа. При этом второго металла должно быть в два раза больше, чем\n",
    "первого. Сколько килограммов каждого металла нужно взять?"
   ]
  },
  {
   "cell_type": "markdown",
   "id": "1cd00b96-2f82-45e1-8e35-f92e31823324",
   "metadata": {},
   "source": [
    "**Решение**\n",
    "\n",
    "Составим систему уравнений.\n",
    "Пусть в первом метале 0.6x железа, во втором 0.7y, в третьем 0.8z :\n",
    "\n",
    "⎧x+y+z=100         \n",
    "⎨0.6x+0.7y+0.8z=72\n",
    "⎩y=2x\n"
   ]
  },
  {
   "cell_type": "code",
   "execution_count": 1,
   "id": "07874ecf-bad0-4d9a-8432-095d61130ff1",
   "metadata": {},
   "outputs": [
    {
     "name": "stdout",
     "output_type": "stream",
     "text": [
      "Решение методом Крамера:\n",
      " \n",
      "x1: 20.000000000000014\n",
      "x2: 40.00000000000004\n",
      "x3: 40.00000000000006\n",
      "\n",
      "Решение системы:\n",
      "\n",
      "x = 20.00\n",
      "y = 40.00\n",
      "z = 40.00\n"
     ]
    }
   ],
   "source": [
    "import numpy as np  \n",
    "#Метод Крамера\n",
    "def kram(A, B):\n",
    "    A1 = np.linalg.det(A)\n",
    "    result = []\n",
    "    for i in range(A.shape[0]):\n",
    "        Ai = A.copy()\n",
    "        Ai[:, i] = B\n",
    "        result.append(np.linalg.det(Ai) / A1)\n",
    "    return result\n",
    "A = np.array([\n",
    "    [1, 1, 1],\n",
    "    [0.6, 0.7, 0.8],\n",
    "    [-2, 1, 0,]])\n",
    "B = np.array([100, 72, 0])\n",
    "s=kram(A, B)\n",
    "print(f\"Решение методом Крамера:\\n \")\n",
    "for i, sol in enumerate(s, start = 1):\n",
    "    print(f\"x{i}: {sol}\")\n",
    "    \n",
    "x = np.linalg.solve(A, B)\n",
    "print(f\"\\nРешение системы:\\n\")\n",
    "print(f\"x = {x[0]:.2f}\")\n",
    "print(f\"y = {x[1]:.2f}\")\n",
    "print(f\"z = {x[2]:.2f}\")"
   ]
  },
  {
   "cell_type": "code",
   "execution_count": null,
   "id": "a9067011-f9da-4c8e-ab73-f9438649f2c2",
   "metadata": {},
   "outputs": [],
   "source": []
  }
 ],
 "metadata": {
  "kernelspec": {
   "display_name": "Python [conda env:base] *",
   "language": "python",
   "name": "conda-base-py"
  },
  "language_info": {
   "codemirror_mode": {
    "name": "ipython",
    "version": 3
   },
   "file_extension": ".py",
   "mimetype": "text/x-python",
   "name": "python",
   "nbconvert_exporter": "python",
   "pygments_lexer": "ipython3",
   "version": "3.12.7"
  }
 },
 "nbformat": 4,
 "nbformat_minor": 5
}
