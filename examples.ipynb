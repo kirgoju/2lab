{
 "cells": [
  {
   "cell_type": "markdown",
   "id": "fe929429-5d85-4da2-ab08-340f23112a0c",
   "metadata": {},
   "source": [
    "**Векторизация и оптимизация кода**"
   ]
  },
  {
   "cell_type": "code",
   "execution_count": 5,
   "id": "bf1309d9-4d2f-4d26-ae8c-d98af1386654",
   "metadata": {},
   "outputs": [],
   "source": [
    "import numpy as np\n",
    "a = np.array([1, 2, 3])\n",
    "b = np.array([4, 5, 6])\n",
    "result = a + b # Быстрое сложение массивов"
   ]
  },
  {
   "cell_type": "markdown",
   "id": "c660b68d-c6c9-4812-b665-9a160b1a541b",
   "metadata": {},
   "source": [
    "**Создание массива и операции с массивами**"
   ]
  },
  {
   "cell_type": "code",
   "execution_count": null,
   "id": "439c8256-8718-442e-8258-61a8824ba6a5",
   "metadata": {},
   "outputs": [],
   "source": [
    "import numpy as np\n",
    "arr = np.array([1, 2, 3, 4])"
   ]
  },
  {
   "cell_type": "code",
   "execution_count": 7,
   "id": "5fdb9bba-a270-4617-8a8a-0631defc5837",
   "metadata": {},
   "outputs": [
    {
     "name": "stdout",
     "output_type": "stream",
     "text": [
      "[5 7 9]\n"
     ]
    }
   ],
   "source": [
    "arr1 = np.array([1, 2, 3])\n",
    "arr2 = np.array([4, 5, 6])\n",
    "result = arr1 + arr2 # [5, 7, 9]\n",
    "print(result)"
   ]
  },
  {
   "cell_type": "code",
   "execution_count": null,
   "id": "5a77d594-dea3-4eb6-9331-00358b591a29",
   "metadata": {},
   "outputs": [],
   "source": [
    "matrix1 = np.array([[1, 2], [3, 4]])\n",
    "matrix2 = np.array([[5, 6], [7, 8]])\n",
    "result = np.dot(matrix1, matrix2)\n",
    "print(result)"
   ]
  },
  {
   "cell_type": "code",
   "execution_count": 11,
   "id": "97cc4ebc-c1fc-472f-b408-d182e776c231",
   "metadata": {},
   "outputs": [
    {
     "name": "stdout",
     "output_type": "stream",
     "text": [
      "1.4142135623730951\n"
     ]
    }
   ],
   "source": [
    "data = np.array([1, 2, 3, 4, 5])\n",
    "mean = np.mean(data) # Среднее значение\n",
    "std_dev = np.std(data)\n",
    "print(std_dev)"
   ]
  },
  {
   "cell_type": "markdown",
   "id": "bf407067-b827-4e47-aa39-ff4d3cff8209",
   "metadata": {},
   "source": [
    "**Доступ к элементам массива**"
   ]
  },
  {
   "cell_type": "code",
   "execution_count": 26,
   "id": "521dd6b8-1ad8-49aa-bc74-44d87bbc749b",
   "metadata": {},
   "outputs": [
    {
     "name": "stdout",
     "output_type": "stream",
     "text": [
      "[[1 2 3 4]\n",
      " [5 6 7 8]\n",
      " [9 1 5 7]]\n"
     ]
    }
   ],
   "source": [
    "import numpy as np\n",
    "m = np.matrix('1 2 3 4; 5 6 7 8; 9 1 5 7')\n",
    "print(m)"
   ]
  },
  {
   "cell_type": "code",
   "execution_count": 20,
   "id": "5e3e7f1d-06fd-4cd1-aa7a-e9f4d017eb61",
   "metadata": {},
   "outputs": [
    {
     "name": "stdout",
     "output_type": "stream",
     "text": [
      "5\n"
     ]
    }
   ],
   "source": [
    "print(m[1, 0])"
   ]
  },
  {
   "cell_type": "code",
   "execution_count": 24,
   "id": "7db8ec30-19d3-45f1-8051-2bd914d766fb",
   "metadata": {},
   "outputs": [
    {
     "name": "stdout",
     "output_type": "stream",
     "text": [
      "[[5 6 7 8]]\n"
     ]
    }
   ],
   "source": [
    "print(m[1, :])"
   ]
  },
  {
   "cell_type": "code",
   "execution_count": 22,
   "id": "904e1f5b-2278-4004-abae-9b3e69046068",
   "metadata": {},
   "outputs": [
    {
     "name": "stdout",
     "output_type": "stream",
     "text": [
      "[[3]\n",
      " [7]\n",
      " [5]]\n"
     ]
    }
   ],
   "source": [
    "print(m[:, 2])"
   ]
  },
  {
   "cell_type": "code",
   "execution_count": null,
   "id": "0722fc9a-7081-4c08-a538-58862f2bbbf3",
   "metadata": {},
   "outputs": [],
   "source": [
    "print(m[1, 2:])"
   ]
  },
  {
   "cell_type": "code",
   "execution_count": null,
   "id": "409e2e45-df64-41b3-bee7-361812184033",
   "metadata": {},
   "outputs": [],
   "source": [
    "print(m[0:2, 1])"
   ]
  },
  {
   "cell_type": "code",
   "execution_count": null,
   "id": "7a69d9b9-ae01-4e49-92c1-415b513ec180",
   "metadata": {},
   "outputs": [],
   "source": [
    "print(m[0:2, 1:3])"
   ]
  },
  {
   "cell_type": "code",
   "execution_count": null,
   "id": "26a7b654-b91d-4203-92a0-676cbf83963b",
   "metadata": {},
   "outputs": [],
   "source": [
    "print(cols = [0, 1, 3])"
   ]
  },
  {
   "cell_type": "markdown",
   "id": "a6779481-dbef-4af3-af08-6649fd94a434",
   "metadata": {},
   "source": [
    "**Расчет статистики по данным в массиве**"
   ]
  },
  {
   "cell_type": "code",
   "execution_count": 28,
   "id": "c0e2138b-6876-477a-a369-61bfa62059d9",
   "metadata": {},
   "outputs": [
    {
     "name": "stdout",
     "output_type": "stream",
     "text": [
      "[[1 2 3 4]\n",
      " [5 6 7 8]\n",
      " [9 1 5 7]]\n"
     ]
    }
   ],
   "source": [
    "m = np.matrix('1 2 3 4; 5 6 7 8; 9 1 5 7')\n",
    "print(m)"
   ]
  },
  {
   "cell_type": "code",
   "execution_count": 30,
   "id": "ff26aeb3-6f24-4f28-a666-cde9604afed9",
   "metadata": {},
   "outputs": [
    {
     "name": "stdout",
     "output_type": "stream",
     "text": [
      "<class 'numpy.matrix'>\n"
     ]
    }
   ],
   "source": [
    "print(type(m))"
   ]
  },
  {
   "cell_type": "code",
   "execution_count": 32,
   "id": "8e4a731f-594d-4893-a36a-13c9772d477b",
   "metadata": {},
   "outputs": [
    {
     "name": "stdout",
     "output_type": "stream",
     "text": [
      "(3, 4)\n"
     ]
    }
   ],
   "source": [
    "print(m.shape)"
   ]
  },
  {
   "cell_type": "code",
   "execution_count": null,
   "id": "c68cbef8-f4fe-4909-8e34-550872c62851",
   "metadata": {},
   "outputs": [],
   "source": [
    "print(m.max())"
   ]
  },
  {
   "cell_type": "code",
   "execution_count": 34,
   "id": "3026e7c5-8d8a-498d-bf82-9f7262d92917",
   "metadata": {},
   "outputs": [
    {
     "name": "stdout",
     "output_type": "stream",
     "text": [
      "[[4]\n",
      " [8]\n",
      " [9]]\n"
     ]
    }
   ],
   "source": [
    "print(m.max(axis=1))"
   ]
  },
  {
   "cell_type": "code",
   "execution_count": null,
   "id": "5c58c4b6-63dd-4a20-90f6-c7bbd574fab3",
   "metadata": {},
   "outputs": [],
   "source": []
  }
 ],
 "metadata": {
  "kernelspec": {
   "display_name": "Python [conda env:base] *",
   "language": "python",
   "name": "conda-base-py"
  },
  "language_info": {
   "codemirror_mode": {
    "name": "ipython",
    "version": 3
   },
   "file_extension": ".py",
   "mimetype": "text/x-python",
   "name": "python",
   "nbconvert_exporter": "python",
   "pygments_lexer": "ipython3",
   "version": "3.12.7"
  }
 },
 "nbformat": 4,
 "nbformat_minor": 5
}
